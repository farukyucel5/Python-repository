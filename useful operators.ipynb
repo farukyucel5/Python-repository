{
 "cells": [
  {
   "cell_type": "code",
   "execution_count": 1,
   "id": "beeeb81a",
   "metadata": {},
   "outputs": [
    {
     "name": "stdout",
     "output_type": "stream",
     "text": [
      "0\n",
      "1\n",
      "2\n",
      "3\n",
      "4\n",
      "5\n",
      "6\n",
      "7\n",
      "8\n",
      "9\n"
     ]
    }
   ],
   "source": [
    "for num in range(10):\n",
    "    print(num)"
   ]
  },
  {
   "cell_type": "code",
   "execution_count": 2,
   "id": "5db6a973",
   "metadata": {},
   "outputs": [
    {
     "name": "stdout",
     "output_type": "stream",
     "text": [
      "3\n",
      "4\n",
      "5\n",
      "6\n",
      "7\n",
      "8\n",
      "9\n"
     ]
    }
   ],
   "source": [
    "for num in range(3,10):\n",
    "    print(num)"
   ]
  },
  {
   "cell_type": "code",
   "execution_count": 4,
   "id": "255008cb",
   "metadata": {},
   "outputs": [
    {
     "name": "stdout",
     "output_type": "stream",
     "text": [
      "0\n",
      "2\n",
      "4\n",
      "6\n",
      "8\n"
     ]
    }
   ],
   "source": [
    "for num in range(0,10,2):#range(initial,end,stepsize) end value is excluded\n",
    "    print(num)"
   ]
  },
  {
   "cell_type": "code",
   "execution_count": 5,
   "id": "71f30571",
   "metadata": {},
   "outputs": [
    {
     "data": {
      "text/plain": [
       "[0, 2, 4, 6, 8, 10]"
      ]
     },
     "execution_count": 5,
     "metadata": {},
     "output_type": "execute_result"
    }
   ],
   "source": [
    "list(range(0,11,2))"
   ]
  },
  {
   "cell_type": "code",
   "execution_count": 7,
   "id": "13abd548",
   "metadata": {},
   "outputs": [
    {
     "name": "stdout",
     "output_type": "stream",
     "text": [
      "At the index 0 the letter is a\n",
      "At the index 1 the letter is b\n",
      "At the index 2 the letter is c\n",
      "At the index 3 the letter is d\n",
      "At the index 4 the letter is e\n"
     ]
    }
   ],
   "source": [
    "index_count=0\n",
    "\n",
    "for letter in \"abcde\":\n",
    "    print(\"At the index {} the letter is {}\".format(index_count,letter))\n",
    "    index_count+=1"
   ]
  },
  {
   "cell_type": "code",
   "execution_count": 8,
   "id": "30ec6045",
   "metadata": {},
   "outputs": [
    {
     "name": "stdout",
     "output_type": "stream",
     "text": [
      "a\n",
      "s\n",
      "d\n",
      "f\n",
      "g\n",
      "h\n",
      "j\n",
      "k\n"
     ]
    }
   ],
   "source": [
    "index_count=0\n",
    "word=\"asdfghjk\"\n",
    "\n",
    "for letter in word:\n",
    "    print(word[index_count])\n",
    "    index_count+=1"
   ]
  },
  {
   "cell_type": "code",
   "execution_count": 9,
   "id": "29c15709",
   "metadata": {},
   "outputs": [
    {
     "name": "stdout",
     "output_type": "stream",
     "text": [
      "(0, 'a')\n",
      "(1, 's')\n",
      "(2, 'd')\n",
      "(3, 'f')\n",
      "(4, 'g')\n",
      "(5, 'h')\n"
     ]
    }
   ],
   "source": [
    "word=\"asdfgh\"\n",
    "\n",
    "for item in enumerate(word):\n",
    "    print(item)"
   ]
  },
  {
   "cell_type": "code",
   "execution_count": 10,
   "id": "04af6446",
   "metadata": {},
   "outputs": [
    {
     "name": "stdout",
     "output_type": "stream",
     "text": [
      "0\n",
      "a\n",
      "\n",
      "\n",
      "1\n",
      "s\n",
      "\n",
      "\n",
      "2\n",
      "d\n",
      "\n",
      "\n",
      "3\n",
      "f\n",
      "\n",
      "\n",
      "4\n",
      "g\n",
      "\n",
      "\n",
      "5\n",
      "h\n",
      "\n",
      "\n"
     ]
    }
   ],
   "source": [
    "word=\"asdfgh\"\n",
    "\n",
    "for index,letter in enumerate(word):\n",
    "    print(index)\n",
    "    print(letter)\n",
    "    print(\"\\n\")"
   ]
  },
  {
   "cell_type": "code",
   "execution_count": 11,
   "id": "6fe6783c",
   "metadata": {},
   "outputs": [
    {
     "name": "stdout",
     "output_type": "stream",
     "text": [
      "0\n",
      "1\n",
      "2\n",
      "3\n",
      "4\n",
      "5\n"
     ]
    }
   ],
   "source": [
    "word=\"asdfgh\"\n",
    "\n",
    "for index,letter in enumerate(word):\n",
    "    print(index)"
   ]
  },
  {
   "cell_type": "code",
   "execution_count": 12,
   "id": "1ed7e99a",
   "metadata": {},
   "outputs": [
    {
     "name": "stdout",
     "output_type": "stream",
     "text": [
      "a\n",
      "s\n",
      "d\n",
      "f\n",
      "g\n",
      "h\n"
     ]
    }
   ],
   "source": [
    "word=\"asdfgh\"\n",
    "\n",
    "for index,letter in enumerate(word):\n",
    "    print(letter)"
   ]
  },
  {
   "cell_type": "code",
   "execution_count": 13,
   "id": "8a01df1e",
   "metadata": {},
   "outputs": [],
   "source": [
    "mylist1=[1,2,3]\n",
    "\n",
    "mylist2=[\"a\",\"b\",\"c\"]"
   ]
  },
  {
   "cell_type": "code",
   "execution_count": 14,
   "id": "22bba195",
   "metadata": {},
   "outputs": [
    {
     "name": "stdout",
     "output_type": "stream",
     "text": [
      "(1, 'a')\n",
      "(2, 'b')\n",
      "(3, 'c')\n"
     ]
    }
   ],
   "source": [
    "for item in zip(mylist1,mylist2):\n",
    "    print(item)\n"
   ]
  },
  {
   "cell_type": "code",
   "execution_count": 15,
   "id": "7236bdc6",
   "metadata": {},
   "outputs": [],
   "source": [
    "mylist3=[4,5,6]"
   ]
  },
  {
   "cell_type": "code",
   "execution_count": 16,
   "id": "12e408b3",
   "metadata": {},
   "outputs": [
    {
     "name": "stdout",
     "output_type": "stream",
     "text": [
      "(1, 'a', 4)\n",
      "(2, 'b', 5)\n",
      "(3, 'c', 6)\n"
     ]
    }
   ],
   "source": [
    "for item in zip(mylist1,mylist2,mylist3):\n",
    "    print(item)\n"
   ]
  },
  {
   "cell_type": "code",
   "execution_count": null,
   "id": "f3c40e59",
   "metadata": {},
   "outputs": [],
   "source": []
  },
  {
   "cell_type": "markdown",
   "id": "931831c4",
   "metadata": {},
   "source": [
    "if the lists are uneven , the zip function will be able to zip them together as far as the shortest one."
   ]
  },
  {
   "cell_type": "code",
   "execution_count": 17,
   "id": "20ed1b77",
   "metadata": {},
   "outputs": [
    {
     "data": {
      "text/plain": [
       "[(1, 'a'), (2, 'b'), (3, 'c')]"
      ]
     },
     "execution_count": 17,
     "metadata": {},
     "output_type": "execute_result"
    }
   ],
   "source": [
    "list(zip(mylist1,mylist2))"
   ]
  },
  {
   "cell_type": "code",
   "execution_count": null,
   "id": "d3d38299",
   "metadata": {},
   "outputs": [],
   "source": []
  },
  {
   "cell_type": "code",
   "execution_count": 19,
   "id": "6e4b6a3b",
   "metadata": {},
   "outputs": [
    {
     "data": {
      "text/plain": [
       "True"
      ]
     },
     "execution_count": 19,
     "metadata": {},
     "output_type": "execute_result"
    }
   ],
   "source": [
    "1 in mylist1# it checks whether or no it exists inside the list"
   ]
  },
  {
   "cell_type": "code",
   "execution_count": 20,
   "id": "1e3b000e",
   "metadata": {},
   "outputs": [
    {
     "data": {
      "text/plain": [
       "False"
      ]
     },
     "execution_count": 20,
     "metadata": {},
     "output_type": "execute_result"
    }
   ],
   "source": [
    "1 in mylist2"
   ]
  },
  {
   "cell_type": "code",
   "execution_count": 21,
   "id": "ed3b7dda",
   "metadata": {},
   "outputs": [
    {
     "data": {
      "text/plain": [
       "True"
      ]
     },
     "execution_count": 21,
     "metadata": {},
     "output_type": "execute_result"
    }
   ],
   "source": [
    "\"k1\" in {\"k1\":345}"
   ]
  },
  {
   "cell_type": "code",
   "execution_count": 23,
   "id": "a9c8389f",
   "metadata": {},
   "outputs": [
    {
     "data": {
      "text/plain": [
       "False"
      ]
     },
     "execution_count": 23,
     "metadata": {},
     "output_type": "execute_result"
    }
   ],
   "source": [
    "345 in {\"k1\":345}"
   ]
  },
  {
   "cell_type": "code",
   "execution_count": 24,
   "id": "75111e9d",
   "metadata": {},
   "outputs": [],
   "source": [
    "d={\"k1\":345}"
   ]
  },
  {
   "cell_type": "code",
   "execution_count": 26,
   "id": "ccb4aa00",
   "metadata": {},
   "outputs": [
    {
     "data": {
      "text/plain": [
       "True"
      ]
     },
     "execution_count": 26,
     "metadata": {},
     "output_type": "execute_result"
    }
   ],
   "source": [
    "345 in d.values()"
   ]
  },
  {
   "cell_type": "code",
   "execution_count": 27,
   "id": "7f5b3a53",
   "metadata": {},
   "outputs": [
    {
     "data": {
      "text/plain": [
       "False"
      ]
     },
     "execution_count": 27,
     "metadata": {},
     "output_type": "execute_result"
    }
   ],
   "source": [
    "345 in d.keys()"
   ]
  },
  {
   "cell_type": "code",
   "execution_count": 29,
   "id": "c898a25f",
   "metadata": {},
   "outputs": [
    {
     "data": {
      "text/plain": [
       "[1, 2, 3]"
      ]
     },
     "execution_count": 29,
     "metadata": {},
     "output_type": "execute_result"
    }
   ],
   "source": [
    "mylist1"
   ]
  },
  {
   "cell_type": "code",
   "execution_count": 30,
   "id": "e348e084",
   "metadata": {},
   "outputs": [
    {
     "data": {
      "text/plain": [
       "1"
      ]
     },
     "execution_count": 30,
     "metadata": {},
     "output_type": "execute_result"
    }
   ],
   "source": [
    "min(mylist1)"
   ]
  },
  {
   "cell_type": "code",
   "execution_count": 31,
   "id": "d53a369c",
   "metadata": {},
   "outputs": [
    {
     "data": {
      "text/plain": [
       "3"
      ]
     },
     "execution_count": 31,
     "metadata": {},
     "output_type": "execute_result"
    }
   ],
   "source": [
    "max(mylist1)"
   ]
  },
  {
   "cell_type": "code",
   "execution_count": 32,
   "id": "7a5edc64",
   "metadata": {},
   "outputs": [],
   "source": [
    "from random import shuffle"
   ]
  },
  {
   "cell_type": "code",
   "execution_count": 33,
   "id": "5a326880",
   "metadata": {},
   "outputs": [],
   "source": [
    "mylist=[1,2,3,4,5,65,6,7,8,9,0]"
   ]
  },
  {
   "cell_type": "code",
   "execution_count": 34,
   "id": "56a502a6",
   "metadata": {},
   "outputs": [],
   "source": [
    "shuffle(mylist)#it shuffles the list and do not return anything"
   ]
  },
  {
   "cell_type": "code",
   "execution_count": 35,
   "id": "5b709730",
   "metadata": {},
   "outputs": [
    {
     "data": {
      "text/plain": [
       "[8, 1, 6, 65, 5, 7, 4, 2, 3, 0, 9]"
      ]
     },
     "execution_count": 35,
     "metadata": {},
     "output_type": "execute_result"
    }
   ],
   "source": [
    "mylist"
   ]
  },
  {
   "cell_type": "code",
   "execution_count": 36,
   "id": "7b22cb95",
   "metadata": {},
   "outputs": [],
   "source": [
    "from random import randint"
   ]
  },
  {
   "cell_type": "code",
   "execution_count": 37,
   "id": "2b4cee3e",
   "metadata": {},
   "outputs": [
    {
     "data": {
      "text/plain": [
       "6"
      ]
     },
     "execution_count": 37,
     "metadata": {},
     "output_type": "execute_result"
    }
   ],
   "source": [
    "randint(0,10)"
   ]
  },
  {
   "cell_type": "code",
   "execution_count": 38,
   "id": "77f869f7",
   "metadata": {},
   "outputs": [],
   "source": [
    "mynum =randint(0,20)#it generates a number between 0 and 20 randomly"
   ]
  },
  {
   "cell_type": "code",
   "execution_count": 39,
   "id": "0d4d5e5b",
   "metadata": {},
   "outputs": [
    {
     "data": {
      "text/plain": [
       "7"
      ]
     },
     "execution_count": 39,
     "metadata": {},
     "output_type": "execute_result"
    }
   ],
   "source": [
    "mynum"
   ]
  },
  {
   "cell_type": "code",
   "execution_count": 40,
   "id": "b709b624",
   "metadata": {},
   "outputs": [
    {
     "name": "stdout",
     "output_type": "stream",
     "text": [
      "enter a number:  23\n"
     ]
    }
   ],
   "source": [
    "result=input(\"enter a number:  \")#it take a number or string from user as a string"
   ]
  },
  {
   "cell_type": "code",
   "execution_count": 41,
   "id": "c2b1590b",
   "metadata": {},
   "outputs": [
    {
     "data": {
      "text/plain": [
       "'23'"
      ]
     },
     "execution_count": 41,
     "metadata": {},
     "output_type": "execute_result"
    }
   ],
   "source": [
    "result"
   ]
  },
  {
   "cell_type": "code",
   "execution_count": 42,
   "id": "87452721",
   "metadata": {},
   "outputs": [],
   "source": [
    "#you have to convert the number taken into integer after you get it\n"
   ]
  },
  {
   "cell_type": "code",
   "execution_count": 43,
   "id": "d71f24bc",
   "metadata": {},
   "outputs": [
    {
     "data": {
      "text/plain": [
       "str"
      ]
     },
     "execution_count": 43,
     "metadata": {},
     "output_type": "execute_result"
    }
   ],
   "source": [
    "type(result)"
   ]
  },
  {
   "cell_type": "code",
   "execution_count": 45,
   "id": "f1a437cd",
   "metadata": {},
   "outputs": [],
   "source": [
    "sayı=int(result)"
   ]
  },
  {
   "cell_type": "code",
   "execution_count": 46,
   "id": "31f1d071",
   "metadata": {},
   "outputs": [
    {
     "data": {
      "text/plain": [
       "23"
      ]
     },
     "execution_count": 46,
     "metadata": {},
     "output_type": "execute_result"
    }
   ],
   "source": [
    "sayı"
   ]
  },
  {
   "cell_type": "code",
   "execution_count": 47,
   "id": "491ee943",
   "metadata": {},
   "outputs": [
    {
     "data": {
      "text/plain": [
       "int"
      ]
     },
     "execution_count": 47,
     "metadata": {},
     "output_type": "execute_result"
    }
   ],
   "source": [
    "type(sayı)"
   ]
  },
  {
   "cell_type": "code",
   "execution_count": null,
   "id": "3c4fe172",
   "metadata": {},
   "outputs": [],
   "source": []
  }
 ],
 "metadata": {
  "kernelspec": {
   "display_name": "Python 3 (ipykernel)",
   "language": "python",
   "name": "python3"
  },
  "language_info": {
   "codemirror_mode": {
    "name": "ipython",
    "version": 3
   },
   "file_extension": ".py",
   "mimetype": "text/x-python",
   "name": "python",
   "nbconvert_exporter": "python",
   "pygments_lexer": "ipython3",
   "version": "3.9.13"
  }
 },
 "nbformat": 4,
 "nbformat_minor": 5
}
