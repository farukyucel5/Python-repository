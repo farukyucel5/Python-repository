{
 "cells": [
  {
   "cell_type": "code",
   "execution_count": 2,
   "id": "62efbbbc",
   "metadata": {},
   "outputs": [
    {
     "name": "stdout",
     "output_type": "stream",
     "text": [
      "The curent value of x is 0\n",
      "The curent value of x is 1\n",
      "The curent value of x is 2\n",
      "The curent value of x is 3\n",
      "The curent value of x is 4\n",
      "X İS NOT LESS THAN FİVE\n"
     ]
    }
   ],
   "source": [
    "x=0;\n",
    "while x<5:\n",
    "    print(f\"The curent value of x is {x}\")\n",
    "    x+=1\n",
    "else:\n",
    "    print(\"X İS NOT LESS THAN FİVE\")\n",
    "\n",
    "    "
   ]
  },
  {
   "cell_type": "code",
   "execution_count": 5,
   "id": "1ad4e68a",
   "metadata": {},
   "outputs": [
    {
     "name": "stdout",
     "output_type": "stream",
     "text": [
      "end of my script\n"
     ]
    }
   ],
   "source": [
    "x=[1,2,3]\n",
    "\n",
    "for item in x:\n",
    "    pass\n",
    "\n",
    "print(\"end of my script\")"
   ]
  },
  {
   "cell_type": "code",
   "execution_count": 6,
   "id": "1e142183",
   "metadata": {},
   "outputs": [],
   "source": [
    "mystring=\"sammy\""
   ]
  },
  {
   "cell_type": "code",
   "execution_count": 7,
   "id": "12152dab",
   "metadata": {},
   "outputs": [
    {
     "name": "stdout",
     "output_type": "stream",
     "text": [
      "s\n",
      "m\n",
      "m\n",
      "y\n"
     ]
    }
   ],
   "source": [
    "for letter in mystring:\n",
    "    if letter==\"a\":\n",
    "        continue\n",
    "    print(letter)    "
   ]
  },
  {
   "cell_type": "code",
   "execution_count": 8,
   "id": "f05a1290",
   "metadata": {},
   "outputs": [
    {
     "name": "stdout",
     "output_type": "stream",
     "text": [
      "s\n"
     ]
    }
   ],
   "source": [
    "for letter in mystring:\n",
    "    if letter==\"a\":\n",
    "        break\n",
    "    print(letter)  "
   ]
  },
  {
   "cell_type": "code",
   "execution_count": 9,
   "id": "ecaadfb0",
   "metadata": {},
   "outputs": [
    {
     "name": "stdout",
     "output_type": "stream",
     "text": [
      "0\n",
      "1\n"
     ]
    }
   ],
   "source": [
    "x=0\n",
    "\n",
    "while x<5:\n",
    "    if x==2:\n",
    "        break\n",
    "    print(x)\n",
    "    \n",
    "    x+=1\n",
    "    "
   ]
  },
  {
   "cell_type": "code",
   "execution_count": null,
   "id": "4d6b5224",
   "metadata": {},
   "outputs": [],
   "source": []
  }
 ],
 "metadata": {
  "kernelspec": {
   "display_name": "Python 3 (ipykernel)",
   "language": "python",
   "name": "python3"
  },
  "language_info": {
   "codemirror_mode": {
    "name": "ipython",
    "version": 3
   },
   "file_extension": ".py",
   "mimetype": "text/x-python",
   "name": "python",
   "nbconvert_exporter": "python",
   "pygments_lexer": "ipython3",
   "version": "3.9.13"
  }
 },
 "nbformat": 4,
 "nbformat_minor": 5
}
