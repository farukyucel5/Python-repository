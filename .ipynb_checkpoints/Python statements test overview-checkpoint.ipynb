{
 "cells": [
  {
   "cell_type": "markdown",
   "id": "33117893",
   "metadata": {},
   "source": [
    "st=\"Print only the words that start with s in the sentence\""
   ]
  },
  {
   "cell_type": "code",
   "execution_count": 1,
   "id": "f073e35a",
   "metadata": {},
   "outputs": [],
   "source": [
    "st=\"Print only the words that start with s in the sentence\""
   ]
  },
  {
   "cell_type": "code",
   "execution_count": 2,
   "id": "4c4fcc1c",
   "metadata": {},
   "outputs": [],
   "source": [
    "st1=st.split()"
   ]
  },
  {
   "cell_type": "code",
   "execution_count": 4,
   "id": "2500ca0f",
   "metadata": {},
   "outputs": [
    {
     "name": "stdout",
     "output_type": "stream",
     "text": [
      "start\n",
      "s\n",
      "sentence\n"
     ]
    }
   ],
   "source": [
    "for letter in st1:\n",
    "    if letter[0]==\"s\":\n",
    "        print(letter)"
   ]
  },
  {
   "cell_type": "code",
   "execution_count": 6,
   "id": "7ed99a02",
   "metadata": {},
   "outputs": [
    {
     "name": "stdout",
     "output_type": "stream",
     "text": [
      "0\n",
      "2\n",
      "4\n",
      "6\n",
      "8\n",
      "10\n"
     ]
    }
   ],
   "source": [
    "for num in range(0,11):\n",
    "    if num%2==0:\n",
    "        print(num)"
   ]
  },
  {
   "cell_type": "markdown",
   "id": "35f874ab",
   "metadata": {},
   "source": [
    "Use a list comprehensions to create a list of all numbers between 1 and 50 that are divisible by 3"
   ]
  },
  {
   "cell_type": "code",
   "execution_count": 7,
   "id": "2f555c45",
   "metadata": {},
   "outputs": [],
   "source": [
    "myBrandNewList=[num for num in range(1,51) if num%3==0]"
   ]
  },
  {
   "cell_type": "code",
   "execution_count": 8,
   "id": "6dd90626",
   "metadata": {},
   "outputs": [
    {
     "data": {
      "text/plain": [
       "[3, 6, 9, 12, 15, 18, 21, 24, 27, 30, 33, 36, 39, 42, 45, 48]"
      ]
     },
     "execution_count": 8,
     "metadata": {},
     "output_type": "execute_result"
    }
   ],
   "source": [
    "myBrandNewList"
   ]
  },
  {
   "cell_type": "markdown",
   "id": "c27583fa",
   "metadata": {},
   "source": [
    "Go through the string below and if the length of a word is even print \"even\""
   ]
  },
  {
   "cell_type": "code",
   "execution_count": 9,
   "id": "d79c229a",
   "metadata": {},
   "outputs": [],
   "source": [
    "st=\"Print every word in this sentence that has an even number of letters\""
   ]
  },
  {
   "cell_type": "code",
   "execution_count": 10,
   "id": "8f5d5510",
   "metadata": {},
   "outputs": [],
   "source": [
    "splited=st.split()"
   ]
  },
  {
   "cell_type": "code",
   "execution_count": 12,
   "id": "fa62b386",
   "metadata": {},
   "outputs": [
    {
     "name": "stdout",
     "output_type": "stream",
     "text": [
      "word\n",
      "in\n",
      "this\n",
      "sentence\n",
      "that\n",
      "an\n",
      "even\n",
      "number\n",
      "of\n"
     ]
    }
   ],
   "source": [
    "for letter in splited:\n",
    "    if len(letter)%2==0:\n",
    "        print(letter)"
   ]
  },
  {
   "cell_type": "code",
   "execution_count": null,
   "id": "f0434513",
   "metadata": {},
   "outputs": [],
   "source": []
  },
  {
   "cell_type": "code",
   "execution_count": 16,
   "id": "5e3930fe",
   "metadata": {},
   "outputs": [
    {
     "name": "stdout",
     "output_type": "stream",
     "text": [
      "FizzBuzz\n",
      "1\n",
      "2\n",
      "Fizz\n",
      "4\n",
      "Buzz\n",
      "Fizz\n",
      "7\n",
      "8\n",
      "Fizz\n",
      "Buzz\n",
      "11\n",
      "Fizz\n",
      "13\n",
      "14\n",
      "FizzBuzz\n",
      "16\n",
      "17\n",
      "Fizz\n",
      "19\n",
      "Buzz\n",
      "Fizz\n",
      "22\n",
      "23\n",
      "Fizz\n",
      "Buzz\n",
      "26\n",
      "Fizz\n",
      "28\n",
      "29\n",
      "FizzBuzz\n",
      "31\n",
      "32\n",
      "Fizz\n",
      "34\n",
      "Buzz\n",
      "Fizz\n",
      "37\n",
      "38\n",
      "Fizz\n",
      "Buzz\n",
      "41\n",
      "Fizz\n",
      "43\n",
      "44\n",
      "FizzBuzz\n",
      "46\n",
      "47\n",
      "Fizz\n",
      "49\n",
      "Buzz\n",
      "Fizz\n",
      "52\n",
      "53\n",
      "Fizz\n",
      "Buzz\n",
      "56\n",
      "Fizz\n",
      "58\n",
      "59\n",
      "FizzBuzz\n",
      "61\n",
      "62\n",
      "Fizz\n",
      "64\n",
      "Buzz\n",
      "Fizz\n",
      "67\n",
      "68\n",
      "Fizz\n",
      "Buzz\n",
      "71\n",
      "Fizz\n",
      "73\n",
      "74\n",
      "FizzBuzz\n",
      "76\n",
      "77\n",
      "Fizz\n",
      "79\n",
      "Buzz\n",
      "Fizz\n",
      "82\n",
      "83\n",
      "Fizz\n",
      "Buzz\n",
      "86\n",
      "Fizz\n",
      "88\n",
      "89\n",
      "FizzBuzz\n",
      "91\n",
      "92\n",
      "Fizz\n",
      "94\n",
      "Buzz\n",
      "Fizz\n",
      "97\n",
      "98\n",
      "Fizz\n",
      "Buzz\n"
     ]
    }
   ],
   "source": [
    "for num in range(0,101):\n",
    "    if(num%3==0 and num%5==0):\n",
    "        print(\"FizzBuzz\")\n",
    "    elif(num%3==0):\n",
    "        print(\"Fizz\")\n",
    "    elif(num%5==0):\n",
    "        print(\"Buzz\")\n",
    "    else:\n",
    "        print(num)\n",
    "    \n",
    "  "
   ]
  },
  {
   "cell_type": "code",
   "execution_count": null,
   "id": "7aaefafa",
   "metadata": {},
   "outputs": [],
   "source": []
  },
  {
   "cell_type": "markdown",
   "id": "f0e2056d",
   "metadata": {},
   "source": [
    "st=\"Create a list of first letters of every word in this string\""
   ]
  },
  {
   "cell_type": "code",
   "execution_count": 17,
   "id": "acb003bd",
   "metadata": {},
   "outputs": [],
   "source": [
    "st=\"Create a list of first letters of every word in this string\""
   ]
  },
  {
   "cell_type": "code",
   "execution_count": 18,
   "id": "f54ad958",
   "metadata": {},
   "outputs": [],
   "source": [
    "splitted1=st.split()"
   ]
  },
  {
   "cell_type": "code",
   "execution_count": 19,
   "id": "229821c0",
   "metadata": {},
   "outputs": [],
   "source": [
    "mylist=[word[0] for word in splitted1]"
   ]
  },
  {
   "cell_type": "code",
   "execution_count": 20,
   "id": "9eb35683",
   "metadata": {},
   "outputs": [
    {
     "data": {
      "text/plain": [
       "['C', 'a', 'l', 'o', 'f', 'l', 'o', 'e', 'w', 'i', 't', 's']"
      ]
     },
     "execution_count": 20,
     "metadata": {},
     "output_type": "execute_result"
    }
   ],
   "source": [
    "mylist"
   ]
  },
  {
   "cell_type": "code",
   "execution_count": null,
   "id": "28af645a",
   "metadata": {},
   "outputs": [],
   "source": []
  }
 ],
 "metadata": {
  "kernelspec": {
   "display_name": "Python 3 (ipykernel)",
   "language": "python",
   "name": "python3"
  },
  "language_info": {
   "codemirror_mode": {
    "name": "ipython",
    "version": 3
   },
   "file_extension": ".py",
   "mimetype": "text/x-python",
   "name": "python",
   "nbconvert_exporter": "python",
   "pygments_lexer": "ipython3",
   "version": "3.9.13"
  }
 },
 "nbformat": 4,
 "nbformat_minor": 5
}
