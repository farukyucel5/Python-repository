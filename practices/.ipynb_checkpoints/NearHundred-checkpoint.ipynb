{
 "cells": [
  {
   "cell_type": "markdown",
   "id": "08236212",
   "metadata": {},
   "source": [
    "Given an int n, return true if it is within 10 of 100 or 200. Note: Math.abs(num) computes the absolute value of a number.\n",
    "\n",
    "\n",
    "nearHundred(93) → true\n",
    "nearHundred(90) → true\n",
    "nearHundred(89) → false"
   ]
  },
  {
   "cell_type": "code",
   "execution_count": 22,
   "id": "10b3ca4b",
   "metadata": {},
   "outputs": [
    {
     "name": "stdout",
     "output_type": "stream",
     "text": [
      "please enter a number: 34\n",
      "True\n"
     ]
    }
   ],
   "source": [
    "number=int(input(\"please enter a number: \"))\n",
    "\n",
    "if (abs(number-100)>=10) or (abs(number-200)>=10):\n",
    "    print(True)\n",
    "else:\n",
    "    print(False)\n",
    "    \n"
   ]
  },
  {
   "cell_type": "code",
   "execution_count": null,
   "id": "5139ad0e",
   "metadata": {},
   "outputs": [],
   "source": []
  },
  {
   "cell_type": "code",
   "execution_count": null,
   "id": "c4008f85",
   "metadata": {},
   "outputs": [],
   "source": []
  }
 ],
 "metadata": {
  "kernelspec": {
   "display_name": "Python 3 (ipykernel)",
   "language": "python",
   "name": "python3"
  },
  "language_info": {
   "codemirror_mode": {
    "name": "ipython",
    "version": 3
   },
   "file_extension": ".py",
   "mimetype": "text/x-python",
   "name": "python",
   "nbconvert_exporter": "python",
   "pygments_lexer": "ipython3",
   "version": "3.9.13"
  }
 },
 "nbformat": 4,
 "nbformat_minor": 5
}
