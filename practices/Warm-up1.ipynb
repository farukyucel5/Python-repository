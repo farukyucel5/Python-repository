{
 "cells": [
  {
   "cell_type": "markdown",
   "id": "213cdeb7",
   "metadata": {},
   "source": [
    "Given an int n, return the absolute difference between n and 21, except return double the absolute difference if n is over 21.\n",
    "\n",
    "\n",
    "diff21(19) → 2\n",
    "diff21(10) → 11\n",
    "diff21(21) → 0"
   ]
  },
  {
   "cell_type": "code",
   "execution_count": 9,
   "id": "3b3bc3b0",
   "metadata": {},
   "outputs": [],
   "source": [
    "n=32"
   ]
  },
  {
   "cell_type": "code",
   "execution_count": 10,
   "id": "da2568c1",
   "metadata": {},
   "outputs": [
    {
     "name": "stdout",
     "output_type": "stream",
     "text": [
      "11\n"
     ]
    }
   ],
   "source": [
    "if n<=21:\n",
    "    result=21-n\n",
    "    print(result)\n",
    "elif n>21:\n",
    "    result=n-21\n",
    "    print(result)"
   ]
  },
  {
   "cell_type": "code",
   "execution_count": 13,
   "id": "ea39e38e",
   "metadata": {},
   "outputs": [],
   "source": [
    "n=\"e\""
   ]
  },
  {
   "cell_type": "code",
   "execution_count": 14,
   "id": "3c720d3e",
   "metadata": {},
   "outputs": [
    {
     "name": "stdout",
     "output_type": "stream",
     "text": [
      "please pass in a valid input \n"
     ]
    }
   ],
   "source": [
    "try:\n",
    "    if n<=21:\n",
    "        result=21-n\n",
    "        print(result)\n",
    "    \n",
    "    elif n>21:\n",
    "        result=n-21\n",
    "        print(result)\n",
    "    \n",
    "except:\n",
    "    print(\"please pass in a valid input \")\n",
    "    "
   ]
  },
  {
   "cell_type": "code",
   "execution_count": null,
   "id": "edef41eb",
   "metadata": {},
   "outputs": [],
   "source": []
  }
 ],
 "metadata": {
  "kernelspec": {
   "display_name": "Python 3 (ipykernel)",
   "language": "python",
   "name": "python3"
  },
  "language_info": {
   "codemirror_mode": {
    "name": "ipython",
    "version": 3
   },
   "file_extension": ".py",
   "mimetype": "text/x-python",
   "name": "python",
   "nbconvert_exporter": "python",
   "pygments_lexer": "ipython3",
   "version": "3.9.13"
  }
 },
 "nbformat": 4,
 "nbformat_minor": 5
}
