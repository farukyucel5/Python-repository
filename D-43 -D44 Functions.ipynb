{
 "cells": [
  {
   "cell_type": "code",
   "execution_count": 1,
   "id": "4e1c428f",
   "metadata": {},
   "outputs": [],
   "source": [
    "def name_of_function(name):\n",
    "    print(\"hello \"+name)\n"
   ]
  },
  {
   "cell_type": "code",
   "execution_count": 2,
   "id": "0d3cd442",
   "metadata": {},
   "outputs": [
    {
     "name": "stdout",
     "output_type": "stream",
     "text": [
      "hello faruk\n"
     ]
    }
   ],
   "source": [
    "name_of_function(\"faruk\")"
   ]
  },
  {
   "cell_type": "code",
   "execution_count": 3,
   "id": "ba93320d",
   "metadata": {},
   "outputs": [],
   "source": [
    "def add_function(num1,num2):\n",
    "    return num1+num2"
   ]
  },
  {
   "cell_type": "code",
   "execution_count": 4,
   "id": "0f265cd4",
   "metadata": {},
   "outputs": [],
   "source": [
    "result=add_function(1,2)"
   ]
  },
  {
   "cell_type": "code",
   "execution_count": 5,
   "id": "4b4d361c",
   "metadata": {},
   "outputs": [
    {
     "data": {
      "text/plain": [
       "3"
      ]
     },
     "execution_count": 5,
     "metadata": {},
     "output_type": "execute_result"
    }
   ],
   "source": [
    "result"
   ]
  },
  {
   "cell_type": "code",
   "execution_count": 6,
   "id": "8543499b",
   "metadata": {},
   "outputs": [],
   "source": [
    "def say_hello(name):\n",
    "    print(f\"Hello {name}\")"
   ]
  },
  {
   "cell_type": "code",
   "execution_count": 7,
   "id": "d8b70d04",
   "metadata": {},
   "outputs": [
    {
     "name": "stdout",
     "output_type": "stream",
     "text": [
      "Hello faruk\n"
     ]
    }
   ],
   "source": [
    "say_hello(\"faruk\")"
   ]
  },
  {
   "cell_type": "code",
   "execution_count": 8,
   "id": "3f22b581",
   "metadata": {},
   "outputs": [],
   "source": [
    "def say_hello(name=\"no name passed-in!!\"):\n",
    "    print(f\"Hello {name}\")"
   ]
  },
  {
   "cell_type": "code",
   "execution_count": 9,
   "id": "edc274f5",
   "metadata": {},
   "outputs": [
    {
     "name": "stdout",
     "output_type": "stream",
     "text": [
      "Hello no name passed-in!!\n"
     ]
    }
   ],
   "source": [
    "say_hello()"
   ]
  },
  {
   "cell_type": "code",
   "execution_count": null,
   "id": "ee283cca",
   "metadata": {},
   "outputs": [],
   "source": []
  }
 ],
 "metadata": {
  "kernelspec": {
   "display_name": "Python 3 (ipykernel)",
   "language": "python",
   "name": "python3"
  },
  "language_info": {
   "codemirror_mode": {
    "name": "ipython",
    "version": 3
   },
   "file_extension": ".py",
   "mimetype": "text/x-python",
   "name": "python",
   "nbconvert_exporter": "python",
   "pygments_lexer": "ipython3",
   "version": "3.9.13"
  }
 },
 "nbformat": 4,
 "nbformat_minor": 5
}
