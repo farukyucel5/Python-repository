{
 "cells": [
  {
   "cell_type": "markdown",
   "id": "b11d0f69",
   "metadata": {},
   "source": [
    "Build this list [0,0,0] two seperate ways"
   ]
  },
  {
   "cell_type": "code",
   "execution_count": 1,
   "id": "059ff1cd",
   "metadata": {},
   "outputs": [
    {
     "data": {
      "text/plain": [
       "[0, 0, 0]"
      ]
     },
     "execution_count": 1,
     "metadata": {},
     "output_type": "execute_result"
    }
   ],
   "source": [
    "#method1\n",
    "[0]*3"
   ]
  },
  {
   "cell_type": "code",
   "execution_count": 2,
   "id": "cd34cf29",
   "metadata": {},
   "outputs": [],
   "source": [
    "#method2\n",
    "list2=[0,0,0]"
   ]
  },
  {
   "cell_type": "code",
   "execution_count": 3,
   "id": "fecd2dd8",
   "metadata": {},
   "outputs": [
    {
     "data": {
      "text/plain": [
       "[0, 0, 0]"
      ]
     },
     "execution_count": 3,
     "metadata": {},
     "output_type": "execute_result"
    }
   ],
   "source": [
    "list2"
   ]
  },
  {
   "cell_type": "markdown",
   "id": "90b988b0",
   "metadata": {},
   "source": [
    "Reassign \"hello\" in this nested list to say \"goodbye\" instead"
   ]
  },
  {
   "cell_type": "code",
   "execution_count": 4,
   "id": "5ffb9e4b",
   "metadata": {},
   "outputs": [],
   "source": [
    "list3=[1,2,[3,4,\"hello\"]]"
   ]
  },
  {
   "cell_type": "code",
   "execution_count": 5,
   "id": "a1870ec9",
   "metadata": {},
   "outputs": [],
   "source": [
    "list3[2][2]=\"goodbye\""
   ]
  },
  {
   "cell_type": "code",
   "execution_count": 6,
   "id": "3a77e440",
   "metadata": {},
   "outputs": [
    {
     "data": {
      "text/plain": [
       "[1, 2, [3, 4, 'goodbye']]"
      ]
     },
     "execution_count": 6,
     "metadata": {},
     "output_type": "execute_result"
    }
   ],
   "source": [
    "list3"
   ]
  },
  {
   "cell_type": "markdown",
   "id": "f8629ca2",
   "metadata": {},
   "source": [
    "sort the list below"
   ]
  },
  {
   "cell_type": "code",
   "execution_count": 7,
   "id": "64785008",
   "metadata": {},
   "outputs": [],
   "source": [
    "list4=[5,3,4,6,1]"
   ]
  },
  {
   "cell_type": "code",
   "execution_count": 8,
   "id": "54d5d12d",
   "metadata": {},
   "outputs": [
    {
     "data": {
      "text/plain": [
       "[1, 3, 4, 5, 6]"
      ]
     },
     "execution_count": 8,
     "metadata": {},
     "output_type": "execute_result"
    }
   ],
   "source": [
    "#method1\n",
    "sorted(list4)"
   ]
  },
  {
   "cell_type": "code",
   "execution_count": 9,
   "id": "5a5a5422",
   "metadata": {},
   "outputs": [],
   "source": [
    "list4.sort()#method2"
   ]
  },
  {
   "cell_type": "code",
   "execution_count": 10,
   "id": "b47e3348",
   "metadata": {},
   "outputs": [
    {
     "data": {
      "text/plain": [
       "[1, 3, 4, 5, 6]"
      ]
     },
     "execution_count": 10,
     "metadata": {},
     "output_type": "execute_result"
    }
   ],
   "source": [
    "list4"
   ]
  },
  {
   "cell_type": "markdown",
   "id": "bbc0e643",
   "metadata": {},
   "source": [
    "Using keys and indexing, grab the \"hello\" from the following dictionaries"
   ]
  },
  {
   "cell_type": "code",
   "execution_count": 11,
   "id": "e0d41061",
   "metadata": {},
   "outputs": [],
   "source": [
    "d={\"simple_key\":\"hello\"}"
   ]
  },
  {
   "cell_type": "code",
   "execution_count": 12,
   "id": "142f0303",
   "metadata": {},
   "outputs": [
    {
     "data": {
      "text/plain": [
       "'hello'"
      ]
     },
     "execution_count": 12,
     "metadata": {},
     "output_type": "execute_result"
    }
   ],
   "source": [
    "d[\"simple_key\"]"
   ]
  },
  {
   "cell_type": "code",
   "execution_count": 13,
   "id": "d418f0e6",
   "metadata": {},
   "outputs": [],
   "source": [
    "d={\"k1\":{\"k2\":\"hello\"}}"
   ]
  },
  {
   "cell_type": "code",
   "execution_count": 14,
   "id": "ef1c7109",
   "metadata": {},
   "outputs": [
    {
     "data": {
      "text/plain": [
       "'hello'"
      ]
     },
     "execution_count": 14,
     "metadata": {},
     "output_type": "execute_result"
    }
   ],
   "source": [
    "d[\"k1\"][\"k2\"]"
   ]
  },
  {
   "cell_type": "code",
   "execution_count": 15,
   "id": "b21d3d81",
   "metadata": {},
   "outputs": [],
   "source": [
    "#Set"
   ]
  },
  {
   "cell_type": "code",
   "execution_count": 16,
   "id": "c60cef41",
   "metadata": {},
   "outputs": [],
   "source": [
    "list5=[1,2,3,2,33,3,55,44,44,6,7,8,9,6]"
   ]
  },
  {
   "cell_type": "code",
   "execution_count": 17,
   "id": "00da4270",
   "metadata": {},
   "outputs": [
    {
     "data": {
      "text/plain": [
       "{1, 2, 3, 6, 7, 8, 9, 33, 44, 55}"
      ]
     },
     "execution_count": 17,
     "metadata": {},
     "output_type": "execute_result"
    }
   ],
   "source": [
    "set(list5)"
   ]
  },
  {
   "cell_type": "code",
   "execution_count": 18,
   "id": "2a79cdef",
   "metadata": {},
   "outputs": [
    {
     "data": {
      "text/plain": [
       "[1, 2, 3, 2, 33, 3, 55, 44, 44, 6, 7, 8, 9, 6]"
      ]
     },
     "execution_count": 18,
     "metadata": {},
     "output_type": "execute_result"
    }
   ],
   "source": [
    "list5"
   ]
  },
  {
   "cell_type": "code",
   "execution_count": 19,
   "id": "90633e58",
   "metadata": {},
   "outputs": [],
   "source": [
    "list5[0]=32"
   ]
  },
  {
   "cell_type": "code",
   "execution_count": 20,
   "id": "a4d0fde2",
   "metadata": {},
   "outputs": [
    {
     "data": {
      "text/plain": [
       "[32, 2, 3, 2, 33, 3, 55, 44, 44, 6, 7, 8, 9, 6]"
      ]
     },
     "execution_count": 20,
     "metadata": {},
     "output_type": "execute_result"
    }
   ],
   "source": [
    "list5"
   ]
  },
  {
   "cell_type": "code",
   "execution_count": 22,
   "id": "54a9154f",
   "metadata": {},
   "outputs": [
    {
     "data": {
      "text/plain": [
       "{2, 3, 6, 7, 8, 9, 32, 33, 44, 55}"
      ]
     },
     "execution_count": 22,
     "metadata": {},
     "output_type": "execute_result"
    }
   ],
   "source": [
    "set(list5)"
   ]
  },
  {
   "cell_type": "code",
   "execution_count": 23,
   "id": "b1962bb5",
   "metadata": {},
   "outputs": [],
   "source": [
    "list5=set(list5)"
   ]
  },
  {
   "cell_type": "code",
   "execution_count": 24,
   "id": "a4db1fb8",
   "metadata": {},
   "outputs": [
    {
     "data": {
      "text/plain": [
       "{2, 3, 6, 7, 8, 9, 32, 33, 44, 55}"
      ]
     },
     "execution_count": 24,
     "metadata": {},
     "output_type": "execute_result"
    }
   ],
   "source": [
    "list5"
   ]
  },
  {
   "cell_type": "code",
   "execution_count": null,
   "id": "24997d25",
   "metadata": {},
   "outputs": [],
   "source": []
  }
 ],
 "metadata": {
  "kernelspec": {
   "display_name": "Python 3 (ipykernel)",
   "language": "python",
   "name": "python3"
  },
  "language_info": {
   "codemirror_mode": {
    "name": "ipython",
    "version": 3
   },
   "file_extension": ".py",
   "mimetype": "text/x-python",
   "name": "python",
   "nbconvert_exporter": "python",
   "pygments_lexer": "ipython3",
   "version": "3.9.13"
  }
 },
 "nbformat": 4,
 "nbformat_minor": 5
}
