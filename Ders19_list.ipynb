{
 "cells": [
  {
   "cell_type": "code",
   "execution_count": 2,
   "id": "35efbf5e",
   "metadata": {},
   "outputs": [],
   "source": [
    "my_list=[1,2,3]"
   ]
  },
  {
   "cell_type": "code",
   "execution_count": 3,
   "id": "ce2a4b5d",
   "metadata": {},
   "outputs": [
    {
     "data": {
      "text/plain": [
       "[1, 2, 3]"
      ]
     },
     "execution_count": 3,
     "metadata": {},
     "output_type": "execute_result"
    }
   ],
   "source": [
    "my_list"
   ]
  },
  {
   "cell_type": "code",
   "execution_count": 4,
   "id": "b3cf0b1c",
   "metadata": {},
   "outputs": [],
   "source": [
    "my_list=[\"string\",1,3.2]"
   ]
  },
  {
   "cell_type": "code",
   "execution_count": 5,
   "id": "a7d81c96",
   "metadata": {},
   "outputs": [
    {
     "data": {
      "text/plain": [
       "['string', 1, 3.2]"
      ]
     },
     "execution_count": 5,
     "metadata": {},
     "output_type": "execute_result"
    }
   ],
   "source": [
    "my_list\n"
   ]
  },
  {
   "cell_type": "code",
   "execution_count": 6,
   "id": "248bd3fb",
   "metadata": {},
   "outputs": [
    {
     "data": {
      "text/plain": [
       "3"
      ]
     },
     "execution_count": 6,
     "metadata": {},
     "output_type": "execute_result"
    }
   ],
   "source": [
    "len(my_list)"
   ]
  },
  {
   "cell_type": "code",
   "execution_count": 7,
   "id": "15181c3e",
   "metadata": {},
   "outputs": [
    {
     "data": {
      "text/plain": [
       "list"
      ]
     },
     "execution_count": 7,
     "metadata": {},
     "output_type": "execute_result"
    }
   ],
   "source": [
    "type(my_list)"
   ]
  },
  {
   "cell_type": "code",
   "execution_count": 8,
   "id": "7ca3d17f",
   "metadata": {},
   "outputs": [],
   "source": [
    "my_list=[\"one\",\"two\",\"three\"]"
   ]
  },
  {
   "cell_type": "code",
   "execution_count": 9,
   "id": "f758860e",
   "metadata": {},
   "outputs": [
    {
     "data": {
      "text/plain": [
       "'one'"
      ]
     },
     "execution_count": 9,
     "metadata": {},
     "output_type": "execute_result"
    }
   ],
   "source": [
    "my_list[0]"
   ]
  },
  {
   "cell_type": "code",
   "execution_count": 10,
   "id": "8f2d305e",
   "metadata": {},
   "outputs": [
    {
     "data": {
      "text/plain": [
       "['two', 'three']"
      ]
     },
     "execution_count": 10,
     "metadata": {},
     "output_type": "execute_result"
    }
   ],
   "source": [
    "my_list[1:]"
   ]
  },
  {
   "cell_type": "code",
   "execution_count": 11,
   "id": "590cd53f",
   "metadata": {},
   "outputs": [],
   "source": [
    "another_list=[\"four\",\"five\"]"
   ]
  },
  {
   "cell_type": "code",
   "execution_count": 14,
   "id": "c1218e83",
   "metadata": {},
   "outputs": [],
   "source": [
    "new_list=my_list+another_list"
   ]
  },
  {
   "cell_type": "code",
   "execution_count": 15,
   "id": "717f5db6",
   "metadata": {},
   "outputs": [
    {
     "data": {
      "text/plain": [
       "['four', 'five']"
      ]
     },
     "execution_count": 15,
     "metadata": {},
     "output_type": "execute_result"
    }
   ],
   "source": [
    "another_list"
   ]
  },
  {
   "cell_type": "code",
   "execution_count": 17,
   "id": "4ea4e07f",
   "metadata": {},
   "outputs": [
    {
     "data": {
      "text/plain": [
       "['one', 'two', 'three', 'four', 'five']"
      ]
     },
     "execution_count": 17,
     "metadata": {},
     "output_type": "execute_result"
    }
   ],
   "source": [
    "new_list"
   ]
  },
  {
   "cell_type": "code",
   "execution_count": 18,
   "id": "7e5c5a12",
   "metadata": {},
   "outputs": [],
   "source": [
    "new_list[0]=\"ONE ALL CAPS\""
   ]
  },
  {
   "cell_type": "code",
   "execution_count": 19,
   "id": "85f0213a",
   "metadata": {},
   "outputs": [
    {
     "data": {
      "text/plain": [
       "['ONE ALL CAPS', 'two', 'three', 'four', 'five']"
      ]
     },
     "execution_count": 19,
     "metadata": {},
     "output_type": "execute_result"
    }
   ],
   "source": [
    "new_list"
   ]
  },
  {
   "cell_type": "markdown",
   "id": "58919b67",
   "metadata": {},
   "source": [
    "list is muteable in python"
   ]
  },
  {
   "cell_type": "code",
   "execution_count": 20,
   "id": "744935eb",
   "metadata": {},
   "outputs": [],
   "source": [
    "new_list.append(\"six\")"
   ]
  },
  {
   "cell_type": "code",
   "execution_count": 21,
   "id": "73a03859",
   "metadata": {},
   "outputs": [
    {
     "data": {
      "text/plain": [
       "['ONE ALL CAPS', 'two', 'three', 'four', 'five', 'six']"
      ]
     },
     "execution_count": 21,
     "metadata": {},
     "output_type": "execute_result"
    }
   ],
   "source": [
    "new_list"
   ]
  },
  {
   "cell_type": "code",
   "execution_count": 22,
   "id": "2ce76601",
   "metadata": {},
   "outputs": [],
   "source": [
    "new_list.append(\"sevan\")"
   ]
  },
  {
   "cell_type": "code",
   "execution_count": 23,
   "id": "ae98ef88",
   "metadata": {},
   "outputs": [
    {
     "data": {
      "text/plain": [
       "['ONE ALL CAPS', 'two', 'three', 'four', 'five', 'six', 'sevan']"
      ]
     },
     "execution_count": 23,
     "metadata": {},
     "output_type": "execute_result"
    }
   ],
   "source": [
    "new_list"
   ]
  },
  {
   "cell_type": "code",
   "execution_count": 24,
   "id": "6ef74e9a",
   "metadata": {},
   "outputs": [
    {
     "data": {
      "text/plain": [
       "'sevan'"
      ]
     },
     "execution_count": 24,
     "metadata": {},
     "output_type": "execute_result"
    }
   ],
   "source": [
    "new_list.pop()"
   ]
  },
  {
   "cell_type": "code",
   "execution_count": 25,
   "id": "83108e28",
   "metadata": {},
   "outputs": [
    {
     "data": {
      "text/plain": [
       "['ONE ALL CAPS', 'two', 'three', 'four', 'five', 'six']"
      ]
     },
     "execution_count": 25,
     "metadata": {},
     "output_type": "execute_result"
    }
   ],
   "source": [
    "new_list"
   ]
  },
  {
   "cell_type": "code",
   "execution_count": 26,
   "id": "d5e2e315",
   "metadata": {},
   "outputs": [],
   "source": [
    "popped_item=new_list.pop()"
   ]
  },
  {
   "cell_type": "code",
   "execution_count": 27,
   "id": "3f58e935",
   "metadata": {},
   "outputs": [
    {
     "data": {
      "text/plain": [
       "'six'"
      ]
     },
     "execution_count": 27,
     "metadata": {},
     "output_type": "execute_result"
    }
   ],
   "source": [
    "popped_item"
   ]
  },
  {
   "cell_type": "code",
   "execution_count": 28,
   "id": "ba2dd273",
   "metadata": {},
   "outputs": [
    {
     "data": {
      "text/plain": [
       "'ONE ALL CAPS'"
      ]
     },
     "execution_count": 28,
     "metadata": {},
     "output_type": "execute_result"
    }
   ],
   "source": [
    "new_list.pop(0)"
   ]
  },
  {
   "cell_type": "code",
   "execution_count": 29,
   "id": "b09d3a33",
   "metadata": {},
   "outputs": [
    {
     "data": {
      "text/plain": [
       "['two', 'three', 'four', 'five']"
      ]
     },
     "execution_count": 29,
     "metadata": {},
     "output_type": "execute_result"
    }
   ],
   "source": [
    "new_list"
   ]
  },
  {
   "cell_type": "code",
   "execution_count": 30,
   "id": "d68b10f4",
   "metadata": {},
   "outputs": [
    {
     "data": {
      "text/plain": [
       "'five'"
      ]
     },
     "execution_count": 30,
     "metadata": {},
     "output_type": "execute_result"
    }
   ],
   "source": [
    "new_list.pop(-1)"
   ]
  },
  {
   "cell_type": "code",
   "execution_count": 31,
   "id": "31cd8309",
   "metadata": {},
   "outputs": [
    {
     "data": {
      "text/plain": [
       "['two', 'three', 'four']"
      ]
     },
     "execution_count": 31,
     "metadata": {},
     "output_type": "execute_result"
    }
   ],
   "source": [
    "new_list"
   ]
  },
  {
   "cell_type": "code",
   "execution_count": 32,
   "id": "918ace0d",
   "metadata": {},
   "outputs": [],
   "source": [
    "new_list=['a','c','x','b']\n",
    "num_list=[1,4,6,7,9,2]"
   ]
  },
  {
   "cell_type": "code",
   "execution_count": 33,
   "id": "6782541b",
   "metadata": {},
   "outputs": [],
   "source": [
    "new_list.sort()"
   ]
  },
  {
   "cell_type": "code",
   "execution_count": 34,
   "id": "f6572f06",
   "metadata": {},
   "outputs": [
    {
     "data": {
      "text/plain": [
       "['a', 'b', 'c', 'x']"
      ]
     },
     "execution_count": 34,
     "metadata": {},
     "output_type": "execute_result"
    }
   ],
   "source": [
    "new_list"
   ]
  },
  {
   "cell_type": "code",
   "execution_count": 35,
   "id": "3fdd3423",
   "metadata": {},
   "outputs": [],
   "source": [
    "num_list.sort()"
   ]
  },
  {
   "cell_type": "code",
   "execution_count": 36,
   "id": "363f90bc",
   "metadata": {},
   "outputs": [
    {
     "data": {
      "text/plain": [
       "[1, 2, 4, 6, 7, 9]"
      ]
     },
     "execution_count": 36,
     "metadata": {},
     "output_type": "execute_result"
    }
   ],
   "source": [
    "num_list"
   ]
  },
  {
   "cell_type": "code",
   "execution_count": 37,
   "id": "a0389085",
   "metadata": {},
   "outputs": [],
   "source": [
    "num_list.reverse()"
   ]
  },
  {
   "cell_type": "code",
   "execution_count": 38,
   "id": "52fdfefb",
   "metadata": {},
   "outputs": [
    {
     "data": {
      "text/plain": [
       "[9, 7, 6, 4, 2, 1]"
      ]
     },
     "execution_count": 38,
     "metadata": {},
     "output_type": "execute_result"
    }
   ],
   "source": [
    "num_list"
   ]
  },
  {
   "cell_type": "code",
   "execution_count": null,
   "id": "a1cc74ee",
   "metadata": {},
   "outputs": [],
   "source": []
  },
  {
   "cell_type": "code",
   "execution_count": null,
   "id": "f062f5bc",
   "metadata": {},
   "outputs": [],
   "source": []
  },
  {
   "cell_type": "code",
   "execution_count": 41,
   "id": "5ce50e90",
   "metadata": {},
   "outputs": [],
   "source": [
    "nums=[1,2,3,4,5,6,7,8,9,0]"
   ]
  },
  {
   "cell_type": "code",
   "execution_count": 42,
   "id": "9af425bd",
   "metadata": {},
   "outputs": [
    {
     "data": {
      "text/plain": [
       "[1, 2, 3, 4, 5, 6, 7, 8, 9, 0]"
      ]
     },
     "execution_count": 42,
     "metadata": {},
     "output_type": "execute_result"
    }
   ],
   "source": [
    "nums"
   ]
  },
  {
   "cell_type": "code",
   "execution_count": 45,
   "id": "7c879ab3",
   "metadata": {},
   "outputs": [],
   "source": [
    "new_nums=nums.sort()"
   ]
  },
  {
   "cell_type": "code",
   "execution_count": 46,
   "id": "2f0ec1e9",
   "metadata": {},
   "outputs": [],
   "source": [
    "new_nums"
   ]
  },
  {
   "cell_type": "code",
   "execution_count": 47,
   "id": "b9fc3aaa",
   "metadata": {},
   "outputs": [
    {
     "data": {
      "text/plain": [
       "NoneType"
      ]
     },
     "execution_count": 47,
     "metadata": {},
     "output_type": "execute_result"
    }
   ],
   "source": [
    "type(new_nums)"
   ]
  },
  {
   "cell_type": "code",
   "execution_count": 48,
   "id": "83453104",
   "metadata": {},
   "outputs": [
    {
     "data": {
      "text/plain": [
       "[0, 1, 2, 3, 4, 5, 6, 7, 8, 9]"
      ]
     },
     "execution_count": 48,
     "metadata": {},
     "output_type": "execute_result"
    }
   ],
   "source": [
    "nums"
   ]
  },
  {
   "cell_type": "code",
   "execution_count": 49,
   "id": "d02e5a57",
   "metadata": {},
   "outputs": [],
   "source": [
    "new_nums=nums"
   ]
  },
  {
   "cell_type": "code",
   "execution_count": 50,
   "id": "7a18e71a",
   "metadata": {},
   "outputs": [
    {
     "data": {
      "text/plain": [
       "[0, 1, 2, 3, 4, 5, 6, 7, 8, 9]"
      ]
     },
     "execution_count": 50,
     "metadata": {},
     "output_type": "execute_result"
    }
   ],
   "source": [
    "new_nums"
   ]
  },
  {
   "cell_type": "code",
   "execution_count": 1,
   "id": "c6fa3deb",
   "metadata": {},
   "outputs": [],
   "source": [
    "#Check if \"apple\" is present in the list:"
   ]
  },
  {
   "cell_type": "code",
   "execution_count": 2,
   "id": "fb1aae4d",
   "metadata": {},
   "outputs": [],
   "source": [
    "thislist = [\"apple\", \"banana\", \"cherry\"]"
   ]
  },
  {
   "cell_type": "code",
   "execution_count": 3,
   "id": "8e77403d",
   "metadata": {},
   "outputs": [
    {
     "name": "stdout",
     "output_type": "stream",
     "text": [
      "Yes, 'apple' is in the fruits list\n"
     ]
    }
   ],
   "source": [
    "if \"apple\" in thislist:\n",
    "    print(\"Yes, 'apple' is in the fruits list\")\n"
   ]
  },
  {
   "cell_type": "code",
   "execution_count": 4,
   "id": "60d3309a",
   "metadata": {},
   "outputs": [],
   "source": [
    "#To insert a new list item, without replacing any of the existing values, \n",
    "#we can use the insert() method.\n",
    "\n",
    "#The insert() method inserts an item at the specified index:\n"
   ]
  },
  {
   "cell_type": "code",
   "execution_count": 5,
   "id": "ae1bd8c2",
   "metadata": {},
   "outputs": [
    {
     "data": {
      "text/plain": [
       "['apple', 'banana', 'cherry']"
      ]
     },
     "execution_count": 5,
     "metadata": {},
     "output_type": "execute_result"
    }
   ],
   "source": [
    "thislist"
   ]
  },
  {
   "cell_type": "code",
   "execution_count": 7,
   "id": "b703fc14",
   "metadata": {},
   "outputs": [],
   "source": [
    "thislist.insert(0,\"watermelon\")"
   ]
  },
  {
   "cell_type": "code",
   "execution_count": 8,
   "id": "0b2ffde1",
   "metadata": {},
   "outputs": [
    {
     "name": "stdout",
     "output_type": "stream",
     "text": [
      "['watermelon', 'apple', 'banana', 'cherry']\n"
     ]
    }
   ],
   "source": [
    "print(thislist)"
   ]
  },
  {
   "cell_type": "code",
   "execution_count": 9,
   "id": "abe6d78a",
   "metadata": {},
   "outputs": [],
   "source": [
    "thislist.insert(4,\"quince\")"
   ]
  },
  {
   "cell_type": "code",
   "execution_count": 10,
   "id": "cf45c5c0",
   "metadata": {},
   "outputs": [
    {
     "name": "stdout",
     "output_type": "stream",
     "text": [
      "['watermelon', 'apple', 'banana', 'cherry', 'quince']\n"
     ]
    }
   ],
   "source": [
    "print(thislist)"
   ]
  },
  {
   "cell_type": "code",
   "execution_count": 12,
   "id": "9cff8413",
   "metadata": {},
   "outputs": [],
   "source": [
    "#To append elements from another list to the current list, use the extend() method."
   ]
  },
  {
   "cell_type": "code",
   "execution_count": 13,
   "id": "e5bae70b",
   "metadata": {},
   "outputs": [],
   "source": [
    "tropical=[\"mango\", \"pineapple\", \"papaya\"]"
   ]
  },
  {
   "cell_type": "code",
   "execution_count": 14,
   "id": "201b5eda",
   "metadata": {},
   "outputs": [
    {
     "data": {
      "text/plain": [
       "['watermelon', 'apple', 'banana', 'cherry', 'quince']"
      ]
     },
     "execution_count": 14,
     "metadata": {},
     "output_type": "execute_result"
    }
   ],
   "source": [
    "thislist"
   ]
  },
  {
   "cell_type": "code",
   "execution_count": 15,
   "id": "6a82fce4",
   "metadata": {},
   "outputs": [],
   "source": [
    "thislist.extend(tropical)"
   ]
  },
  {
   "cell_type": "code",
   "execution_count": 16,
   "id": "582e9210",
   "metadata": {},
   "outputs": [
    {
     "name": "stdout",
     "output_type": "stream",
     "text": [
      "['watermelon', 'apple', 'banana', 'cherry', 'quince', 'mango', 'pineapple', 'papaya']\n"
     ]
    }
   ],
   "source": [
    "print(thislist)"
   ]
  },
  {
   "cell_type": "code",
   "execution_count": null,
   "id": "4fc4bc7f",
   "metadata": {},
   "outputs": [],
   "source": []
  }
 ],
 "metadata": {
  "kernelspec": {
   "display_name": "Python 3 (ipykernel)",
   "language": "python",
   "name": "python3"
  },
  "language_info": {
   "codemirror_mode": {
    "name": "ipython",
    "version": 3
   },
   "file_extension": ".py",
   "mimetype": "text/x-python",
   "name": "python",
   "nbconvert_exporter": "python",
   "pygments_lexer": "ipython3",
   "version": "3.9.13"
  }
 },
 "nbformat": 4,
 "nbformat_minor": 5
}
